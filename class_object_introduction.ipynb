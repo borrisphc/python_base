{
 "cells": [
  {
   "cell_type": "markdown",
   "metadata": {},
   "source": [
    "### 建立 class"
   ]
  },
  {
   "cell_type": "code",
   "execution_count": 1,
   "metadata": {},
   "outputs": [],
   "source": [
    "class person(): # 建立一個類別(函式)叫做 person\n",
    "    # 使用 def 來定義 person 這個 class 中可以執行的 function 種類，\n",
    "    # 實際在跑的時候可以用 person.function_name()來呼叫你要指定的function\n",
    "    def __init__(self,name,height,weight): \n",
    "        # __init__ 是指當你建立 person 這個class 時，首先會自動執行的function\n",
    "        # self 代表你的class person 本身, self.N = name 在 class 外面就等於 person.N = name,\n",
    "        # 一般來說第一個參數都要放self，讓他呼叫 class本身\n",
    "        self.N = name\n",
    "        self.H = height\n",
    "        self.W = weight\n",
    "        \n",
    "    def BMI(self):\n",
    "        return self.W / (self.H*0.01)**2\n",
    "    \n",
    "    def p_hight(self):\n",
    "        print( \"I am \" + str(self.H/100) + \" m tall\")"
   ]
  },
  {
   "cell_type": "markdown",
   "metadata": {},
   "source": [
    "#### 用 person 這 class 建立一個 object 為 Jeff  "
   ]
  },
  {
   "cell_type": "code",
   "execution_count": 2,
   "metadata": {},
   "outputs": [],
   "source": [
    "Jeff = person(\"jeff\",160,54) "
   ]
  },
  {
   "cell_type": "code",
   "execution_count": 3,
   "metadata": {},
   "outputs": [
    {
     "name": "stdout",
     "output_type": "stream",
     "text": [
      "54\n",
      "160\n",
      "jeff\n"
     ]
    }
   ],
   "source": [
    "print(Jeff.W)\n",
    "print(Jeff.H)\n",
    "print(Jeff.N)"
   ]
  },
  {
   "cell_type": "code",
   "execution_count": 4,
   "metadata": {},
   "outputs": [
    {
     "data": {
      "text/plain": [
       "21.093749999999996"
      ]
     },
     "execution_count": 4,
     "metadata": {},
     "output_type": "execute_result"
    }
   ],
   "source": [
    "Jeff.BMI() # 執行內部的function "
   ]
  },
  {
   "cell_type": "code",
   "execution_count": 5,
   "metadata": {},
   "outputs": [
    {
     "name": "stdout",
     "output_type": "stream",
     "text": [
      "I am 1.6 m tall\n"
     ]
    }
   ],
   "source": [
    "Jeff.p_hight()"
   ]
  },
  {
   "cell_type": "markdown",
   "metadata": {},
   "source": [
    "### class 的 繼承與覆寫\n",
    "建立一個 class male 繼承 person"
   ]
  },
  {
   "cell_type": "code",
   "execution_count": 6,
   "metadata": {},
   "outputs": [],
   "source": [
    "class male(person): # male這個 class 會繼承 person 的所有 property(function), BMI(), p_hight()\n",
    "    \n",
    "    def __init__(self,name,height,weight,gender): # 定義這個 class的 property \n",
    "        self.N = name\n",
    "        self.H = height\n",
    "        self.W = weight\n",
    "        self.G = gender\n",
    "    \n",
    "    def is_male(self): # 新增具有判斷式的 function\n",
    "        if self.G == \"male\": # 在 function 中呼叫變數時要使用 __init__ 裡定義的名稱 self.G\n",
    "            print(\"Is a man.\")\n",
    "    \n",
    "    def p_hight(self): # 也可以覆寫 person 裡原有的 function \n",
    "         print( \"I am \" + str(self.H) + \" cm tall.\")"
   ]
  },
  {
   "cell_type": "code",
   "execution_count": 7,
   "metadata": {},
   "outputs": [],
   "source": [
    "Sam = male( name = \"sam\", weight = 80, height = 170, gender = \"male\")"
   ]
  },
  {
   "cell_type": "code",
   "execution_count": 8,
   "metadata": {},
   "outputs": [
    {
     "data": {
      "text/plain": [
       "27.68166089965398"
      ]
     },
     "execution_count": 8,
     "metadata": {},
     "output_type": "execute_result"
    }
   ],
   "source": [
    "Sam.BMI() \n",
    "# person 原先的 function 雖然沒有特別寫出來, 但也是會繼承下來"
   ]
  },
  {
   "cell_type": "code",
   "execution_count": 9,
   "metadata": {},
   "outputs": [
    {
     "name": "stdout",
     "output_type": "stream",
     "text": [
      "Is a man.\n"
     ]
    }
   ],
   "source": [
    "Sam.is_male()"
   ]
  },
  {
   "cell_type": "code",
   "execution_count": 10,
   "metadata": {},
   "outputs": [
    {
     "name": "stdout",
     "output_type": "stream",
     "text": [
      "I am 170 cm tall.\n"
     ]
    }
   ],
   "source": [
    "Sam.p_hight() # 測試覆寫的function有沒有成功"
   ]
  },
  {
   "cell_type": "markdown",
   "metadata": {},
   "source": [
    "### super() 可以 省略繼承 class 的 property 和 function "
   ]
  },
  {
   "cell_type": "code",
   "execution_count": 11,
   "metadata": {},
   "outputs": [],
   "source": [
    "class boy(person):  \n",
    "    \n",
    "    def __init__(self,name,height,weight,gender):\n",
    "        super().__init__(name,height,weight) # 用 super() 去輸入所有 person 當中 __init__()內的 property\n",
    "        self.G = gender\n",
    "    \n",
    "    def is_male(self):\n",
    "        if self.G == \"male\":\n",
    "            print(\"Is a man.\")\n",
    "    \n",
    "    def p_hight(self): \n",
    "        print( str(self.H) + \" cm\")"
   ]
  },
  {
   "cell_type": "code",
   "execution_count": 12,
   "metadata": {},
   "outputs": [],
   "source": [
    "Tom = boy( name = \"Tom\", weight = 80, height = 170, gender = \"male\")"
   ]
  },
  {
   "cell_type": "code",
   "execution_count": 13,
   "metadata": {},
   "outputs": [
    {
     "name": "stdout",
     "output_type": "stream",
     "text": [
      "male\n",
      "170\n",
      "80\n"
     ]
    }
   ],
   "source": [
    "print(Tom.G)\n",
    "print(Tom.H)\n",
    "print(Tom.W)"
   ]
  },
  {
   "cell_type": "code",
   "execution_count": 14,
   "metadata": {},
   "outputs": [
    {
     "name": "stdout",
     "output_type": "stream",
     "text": [
      "Is a man.\n"
     ]
    }
   ],
   "source": [
    "Tom.is_male()"
   ]
  },
  {
   "cell_type": "code",
   "execution_count": 15,
   "metadata": {},
   "outputs": [
    {
     "data": {
      "text/plain": [
       "27.68166089965398"
      ]
     },
     "execution_count": 15,
     "metadata": {},
     "output_type": "execute_result"
    }
   ],
   "source": [
    "Tom.BMI()"
   ]
  }
 ],
 "metadata": {
  "kernelspec": {
   "display_name": "Python 3",
   "language": "python",
   "name": "python3"
  },
  "language_info": {
   "codemirror_mode": {
    "name": "ipython",
    "version": 3
   },
   "file_extension": ".py",
   "mimetype": "text/x-python",
   "name": "python",
   "nbconvert_exporter": "python",
   "pygments_lexer": "ipython3",
   "version": "3.7.6"
  }
 },
 "nbformat": 4,
 "nbformat_minor": 4
}
